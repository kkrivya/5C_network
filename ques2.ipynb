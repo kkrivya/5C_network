{
 "cells": [
  {
   "cell_type": "code",
   "execution_count": 1,
   "id": "0254a609",
   "metadata": {},
   "outputs": [
    {
     "name": "stdout",
     "output_type": "stream",
     "text": [
      "3-Day Rolling Average of Daily Gross Profit:\n",
      "        Date  3-Day Avg Gross Profit\n",
      "0 2023-08-21                     NaN\n",
      "1 2023-08-22                     NaN\n",
      "2 2023-08-23             4848.386667\n",
      "3 2023-08-24             4187.950000\n",
      "4 2023-08-25             4340.146667\n",
      "5 2023-08-26             4617.043333\n",
      "6 2023-08-27             4023.853333\n",
      "\n",
      "Least Profitable Vendor: Vendor8\n",
      "Least Profitable Customer: Customer3\n",
      "\n",
      "Buying Price Percentiles:\n",
      "25.0th: 29.9\n",
      "50.0th: 60.76\n",
      "75.0th: 78.32000000000001\n",
      "\n",
      "Selling Price Percentiles:\n",
      "25.0th: 38.975\n",
      "50.0th: 78.99000000000001\n",
      "75.0th: 103.39750000000001\n",
      "\n",
      "Prices below the 25th percentile for buying: 18\n",
      "Prices above the 75th percentile for selling: 18\n"
     ]
    }
   ],
   "source": [
    "import pandas as pd\n",
    "\n",
    "\n",
    "sales_data_new = pd.read_csv('new3.csv')\n",
    "\n",
    "\n",
    "sales_data_new['Date'] = pd.to_datetime(sales_data_new['Date'], format='%d-%m-%Y')\n",
    "\n",
    "\n",
    "sales_data_new['Gross Profit'] = (sales_data_new['Selling price'] - sales_data_new['Buying price']) * sales_data_new['Quantity sold']\n",
    "\n",
    "\n",
    "daily_gross_profit = sales_data_new.groupby('Date')['Gross Profit'].sum().reset_index()\n",
    "\n",
    "daily_gross_profit['3-Day Avg Gross Profit'] = daily_gross_profit['Gross Profit'].rolling(window=3).mean()\n",
    "\n",
    "profit_per_vendor = sales_data_new.groupby('Firm bought from')['Gross Profit'].sum()\n",
    "profit_per_customer = sales_data_new.groupby('Customer')['Gross Profit'].sum()\n",
    "\n",
    "\n",
    "least_profitable_vendor = profit_per_vendor.idxmin()\n",
    "least_profitable_customer = profit_per_customer.idxmin()\n",
    "\n",
    "\n",
    "buying_price_percentiles = sales_data_new['Buying price'].quantile([0.25, 0.5, 0.75]).to_dict()\n",
    "selling_price_percentiles = sales_data_new['Selling price'].quantile([0.25, 0.5, 0.75]).to_dict()\n",
    "\n",
    "prices_below_25th_percentile = (sales_data_new['Buying price'] < buying_price_percentiles[0.25]).sum()\n",
    "prices_above_75th_percentile = (sales_data_new['Selling price'] > selling_price_percentiles[0.75]).sum()\n",
    "\n",
    "print(\"3-Day Rolling Average of Daily Gross Profit:\")\n",
    "print(daily_gross_profit[['Date', '3-Day Avg Gross Profit']])\n",
    "\n",
    "print(\"\\nLeast Profitable Vendor:\", least_profitable_vendor)\n",
    "print(\"Least Profitable Customer:\", least_profitable_customer)\n",
    "\n",
    "print(\"\\nBuying Price Percentiles:\")\n",
    "for percentile, value in buying_price_percentiles.items():\n",
    "    print(f\"{percentile*100}th: {value}\")\n",
    "\n",
    "print(\"\\nSelling Price Percentiles:\")\n",
    "for percentile, value in selling_price_percentiles.items():\n",
    "    print(f\"{percentile*100}th: {value}\")\n",
    "\n",
    "print(\"\\nPrices below the 25th percentile for buying:\", prices_below_25th_percentile)\n",
    "print(\"Prices above the 75th percentile for selling:\", prices_above_75th_percentile)\n"
   ]
  },
  {
   "cell_type": "code",
   "execution_count": null,
   "id": "f80de0da",
   "metadata": {},
   "outputs": [],
   "source": []
  }
 ],
 "metadata": {
  "kernelspec": {
   "display_name": "Python 3 (ipykernel)",
   "language": "python",
   "name": "python3"
  },
  "language_info": {
   "codemirror_mode": {
    "name": "ipython",
    "version": 3
   },
   "file_extension": ".py",
   "mimetype": "text/x-python",
   "name": "python",
   "nbconvert_exporter": "python",
   "pygments_lexer": "ipython3",
   "version": "3.11.4"
  }
 },
 "nbformat": 4,
 "nbformat_minor": 5
}

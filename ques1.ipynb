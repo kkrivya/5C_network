{
 "cells": [
  {
   "cell_type": "code",
   "execution_count": 3,
   "id": "7c59634c",
   "metadata": {},
   "outputs": [
    {
     "name": "stdout",
     "output_type": "stream",
     "text": [
      "Overall gross margin: 608.49%\n",
      "Most profitable vendor: Vendor4\n",
      "Least profitable customer: Customer3\n",
      "Most profitable day of the week: Monday\n",
      "Least profitable day of the week: Sunday\n"
     ]
    }
   ],
   "source": [
    "import pandas as pd\n",
    "\n",
    "\n",
    "file_path = 'new2.csv' \n",
    "sales_data = pd.read_csv('new2.csv' )\n",
    "\n",
    "sales_data['Date'] = pd.to_datetime(sales_data['Date'], format='%d-%m-%Y')\n",
    "sales_data['Day of the Week'] = sales_data['Date'].dt.day_name()\n",
    "\n",
    "\n",
    "sales_data['Gross Profit'] = (sales_data['Selling price'] - sales_data['Buying price']) * sales_data['Quantity sold']\n",
    "\n",
    "\n",
    "profit_per_vendor = sales_data.groupby('Firm bought from')['Gross Profit'].sum()\n",
    "profit_per_customer = sales_data.groupby('Customer')['Gross Profit'].sum()\n",
    "profit_per_day = sales_data.groupby('Day of the Week')['Gross Profit'].sum()\n",
    "\n",
    "\n",
    "overall_gross_margin = sales_data['Gross Profit'].sum() / sales_data['Selling price'].sum() * 100\n",
    "\n",
    "\n",
    "most_profitable_vendor = profit_per_vendor.idxmax()\n",
    "least_profitable_customer = profit_per_customer.idxmin()\n",
    "\n",
    "\n",
    "most_profitable_day = profit_per_day.idxmax()\n",
    "least_profitable_day = profit_per_day.idxmin()\n",
    "\n",
    "print(f\"Overall gross margin: {overall_gross_margin:.2f}%\")\n",
    "print(f\"Most profitable vendor: {most_profitable_vendor}\")\n",
    "print(f\"Least profitable customer: {least_profitable_customer}\")\n",
    "print(f\"Most profitable day of the week: {most_profitable_day}\")\n",
    "print(f\"Least profitable day of the week: {least_profitable_day}\")\n"
   ]
  },
  {
   "cell_type": "code",
   "execution_count": null,
   "id": "89ef2f99",
   "metadata": {},
   "outputs": [],
   "source": []
  }
 ],
 "metadata": {
  "kernelspec": {
   "display_name": "Python 3 (ipykernel)",
   "language": "python",
   "name": "python3"
  },
  "language_info": {
   "codemirror_mode": {
    "name": "ipython",
    "version": 3
   },
   "file_extension": ".py",
   "mimetype": "text/x-python",
   "name": "python",
   "nbconvert_exporter": "python",
   "pygments_lexer": "ipython3",
   "version": "3.11.4"
  }
 },
 "nbformat": 4,
 "nbformat_minor": 5
}
